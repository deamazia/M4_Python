{
 "cells": [
  {
   "cell_type": "markdown",
   "metadata": {},
   "source": [
    "# Tarefa 01\n",
    "\n",
    "- Leia os enunciados com atenção\n",
    "- Saiba que pode haver mais de uma resposta correta\n",
    "- Insira novas células de código sempre que achar necessário\n",
    "- Em caso de dúvidas, procure os tutores\n",
    "- Divirta-se :)\n",
    "\n",
    "#### 1)  crie uma série do pandas a partir de uma lista com os dados abaixo:\n",
    "\n",
    "Em um estudo sobre alteração na tempreatura global, A NASA disponibiliza dados de diferenças de de temperatura média da superfície terrestre relativos às médias de temperatura entre 1951 e 1980. Os dados originais podem ser vistos no site da NASA/GISS, e estão dispostos a cada década na tabela abaixo.\n",
    "\n",
    "|ano|anomalia termica|\n",
    "|:-:|:----:|\n",
    "| 1900 | -0.08 |\n",
    "| 1920 | -0.27 |\n",
    "| 1940 | 0.12 |\n",
    "| 1960 | -0.03 |\n",
    "| 1980 | 0.26 |\n",
    "| 2000 | 0.40 |\n",
    "| 2020 | 1.02 |\n",
    "\n",
    "Crie uma séries do Pandas a partir de uma lista com esses dados."
   ]
  },
  {
   "cell_type": "code",
   "execution_count": 5,
   "metadata": {},
   "outputs": [],
   "source": [
    "import pandas as pd\n",
    "import numpy as np\n",
    "\n",
    "anomalias_termicas = [-0.08, -0.27, 0.12, -0.03, 0.26, 0.40, 1.02]\n",
    "anos = [1900, 1920, 1940, 1960, 1980, 2000, 2020]\n",
    "\n"
   ]
  },
  {
   "cell_type": "markdown",
   "metadata": {},
   "source": [
    "#### 2) Coloque os anos nos índices conforme a tabela."
   ]
  },
  {
   "cell_type": "code",
   "execution_count": 6,
   "metadata": {},
   "outputs": [
    {
     "name": "stdout",
     "output_type": "stream",
     "text": [
      "1900   -0.08\n",
      "1920   -0.27\n",
      "1940    0.12\n",
      "1960   -0.03\n",
      "1980    0.26\n",
      "2000    0.40\n",
      "2020    1.02\n",
      "dtype: float64\n"
     ]
    }
   ],
   "source": [
    "serie_anomalias = pd.Series(data=anomalias_termicas, index=anos)\n",
    "\n",
    "print(serie_anomalias)\n",
    "\n"
   ]
  },
  {
   "cell_type": "markdown",
   "metadata": {},
   "source": [
    "#### 3) A partir do dicionário abaixo, crie uma séries do Pandas:"
   ]
  },
  {
   "cell_type": "code",
   "execution_count": 7,
   "metadata": {},
   "outputs": [
    {
     "name": "stdout",
     "output_type": "stream",
     "text": [
      "1900   -0.08\n",
      "1920   -0.27\n",
      "1940    0.12\n",
      "1960   -0.03\n",
      "1980    0.26\n",
      "2000    0.40\n",
      "2020    1.02\n",
      "dtype: float64\n"
     ]
    }
   ],
   "source": [
    "dic_temperaturas = {1900: -.08, 1920: -.27, 1940: .12, 1960: -.03, 1980: .26, 2000: .40, 2020: 1.02}\n",
    "\n",
    "dic_temperaturas = {\n",
    "    1900: -0.08,\n",
    "    1920: -0.27,\n",
    "    1940: 0.12,\n",
    "    1960: -0.03,\n",
    "    1980: 0.26,\n",
    "    2000: 0.40,\n",
    "    2020: 1.02\n",
    "}\n",
    "\n",
    "serie_temperaturas = pd.Series(dic_temperaturas)\n",
    "\n",
    "print(serie_temperaturas)\n",
    "\n",
    "\n"
   ]
  },
  {
   "cell_type": "markdown",
   "metadata": {},
   "source": [
    "#### 4) Transforme o ndarray abaixo em um dataframe. \n",
    "O numpy é capaz de gerar arrays n-dimensionais com números pseudo-aleatórios de acordo com uma variedade de distribuições, como no exemplo abaixo. Transforme esse nd-array em um DataFrame."
   ]
  },
  {
   "cell_type": "code",
   "execution_count": 8,
   "metadata": {},
   "outputs": [
    {
     "name": "stdout",
     "output_type": "stream",
     "text": [
      "      Coluna 1    Coluna 2    Coluna 3\n",
      "0    70.379961   91.473890   88.117688\n",
      "1    89.514526   85.601429  103.099602\n",
      "2    75.106018   86.522168   85.360066\n",
      "3   106.034560  114.313302  112.912658\n",
      "4   102.488407   98.029995   92.402727\n",
      "5    88.741163  100.728184   87.683810\n",
      "6   107.253091   97.310839  101.758721\n",
      "7   100.927784  103.188554  109.009172\n",
      "8   121.371854  110.573573   92.876693\n",
      "9    86.470031   88.908281   84.679403\n",
      "10  107.885070  111.223333  108.741216\n",
      "11  107.462679   91.714437  107.358801\n",
      "12   85.147576  113.990681   86.418018\n",
      "13   93.765603  109.375854   84.810509\n",
      "14  103.114091   86.327074   91.398336\n",
      "15  100.012492  105.078764   93.443331\n",
      "16   83.555153  100.676170  111.482321\n",
      "17   86.201528   90.538934   99.002007\n",
      "18   98.006095   81.030184  112.493868\n",
      "19   90.936723   88.238728   89.301666\n"
     ]
    }
   ],
   "source": [
    "arr = np.random.normal(100, 10, (20,3))\n",
    "\n",
    "df = pd.DataFrame(arr, columns=['Coluna 1', 'Coluna 2', 'Coluna 3'])\n",
    "\n",
    "print(df)"
   ]
  },
  {
   "cell_type": "markdown",
   "metadata": {},
   "source": [
    "#### 5) Nomeie os índices das linhas com inteiros de 1 a 20, e as colunas com os nomes \"x1\", \"x2\", e \"x3\" respectivamente."
   ]
  },
  {
   "cell_type": "code",
   "execution_count": 9,
   "metadata": {},
   "outputs": [
    {
     "name": "stdout",
     "output_type": "stream",
     "text": [
      "            x1          x2          x3\n",
      "1    70.379961   91.473890   88.117688\n",
      "2    89.514526   85.601429  103.099602\n",
      "3    75.106018   86.522168   85.360066\n",
      "4   106.034560  114.313302  112.912658\n",
      "5   102.488407   98.029995   92.402727\n",
      "6    88.741163  100.728184   87.683810\n",
      "7   107.253091   97.310839  101.758721\n",
      "8   100.927784  103.188554  109.009172\n",
      "9   121.371854  110.573573   92.876693\n",
      "10   86.470031   88.908281   84.679403\n",
      "11  107.885070  111.223333  108.741216\n",
      "12  107.462679   91.714437  107.358801\n",
      "13   85.147576  113.990681   86.418018\n",
      "14   93.765603  109.375854   84.810509\n",
      "15  103.114091   86.327074   91.398336\n",
      "16  100.012492  105.078764   93.443331\n",
      "17   83.555153  100.676170  111.482321\n",
      "18   86.201528   90.538934   99.002007\n",
      "19   98.006095   81.030184  112.493868\n",
      "20   90.936723   88.238728   89.301666\n"
     ]
    }
   ],
   "source": [
    "df = pd.DataFrame(arr, index=range(1, 21), columns=['x1', 'x2', 'x3'])\n",
    "\n",
    "print(df)\n"
   ]
  },
  {
   "cell_type": "markdown",
   "metadata": {},
   "source": [
    "#### 6) No DataFrame do exercício 5, crie uma nova coluna como sendo a média das três colunas, e dê a ela o nome de \"media\" (não recomendo colocar acentos em nomes de variáveis)."
   ]
  },
  {
   "cell_type": "code",
   "execution_count": 10,
   "metadata": {},
   "outputs": [
    {
     "name": "stdout",
     "output_type": "stream",
     "text": [
      "            x1          x2          x3       media\n",
      "1    70.379961   91.473890   88.117688   83.323846\n",
      "2    89.514526   85.601429  103.099602   92.738519\n",
      "3    75.106018   86.522168   85.360066   82.329417\n",
      "4   106.034560  114.313302  112.912658  111.086840\n",
      "5   102.488407   98.029995   92.402727   97.640376\n",
      "6    88.741163  100.728184   87.683810   92.384386\n",
      "7   107.253091   97.310839  101.758721  102.107550\n",
      "8   100.927784  103.188554  109.009172  104.375170\n",
      "9   121.371854  110.573573   92.876693  108.274040\n",
      "10   86.470031   88.908281   84.679403   86.685905\n",
      "11  107.885070  111.223333  108.741216  109.283206\n",
      "12  107.462679   91.714437  107.358801  102.178639\n",
      "13   85.147576  113.990681   86.418018   95.185425\n",
      "14   93.765603  109.375854   84.810509   95.983989\n",
      "15  103.114091   86.327074   91.398336   93.613167\n",
      "16  100.012492  105.078764   93.443331   99.511529\n",
      "17   83.555153  100.676170  111.482321   98.571215\n",
      "18   86.201528   90.538934   99.002007   91.914156\n",
      "19   98.006095   81.030184  112.493868   97.176716\n",
      "20   90.936723   88.238728   89.301666   89.492372\n"
     ]
    }
   ],
   "source": [
    "df['media'] = df[['x1', 'x2', 'x3']].mean(axis=1)\n",
    "\n",
    "print(df)"
   ]
  },
  {
   "cell_type": "markdown",
   "metadata": {},
   "source": [
    "#### 7) No DataFrame do exercício 6, crie uma nova coluna chamada \"log_med\", contendo o logaritmo natural da média calculada no exercício 6 <br>"
   ]
  },
  {
   "cell_type": "code",
   "execution_count": 11,
   "metadata": {},
   "outputs": [
    {
     "name": "stdout",
     "output_type": "stream",
     "text": [
      "            x1          x2          x3       media   log_med\n",
      "1    70.379961   91.473890   88.117688   83.323846  4.422735\n",
      "2    89.514526   85.601429  103.099602   92.738519  4.529784\n",
      "3    75.106018   86.522168   85.360066   82.329417  4.410728\n",
      "4   106.034560  114.313302  112.912658  111.086840  4.710312\n",
      "5   102.488407   98.029995   92.402727   97.640376  4.581291\n",
      "6    88.741163  100.728184   87.683810   92.384386  4.525958\n",
      "7   107.253091   97.310839  101.758721  102.107550  4.626027\n",
      "8   100.927784  103.188554  109.009172  104.375170  4.647992\n",
      "9   121.371854  110.573573   92.876693  108.274040  4.684665\n",
      "10   86.470031   88.908281   84.679403   86.685905  4.462291\n",
      "11  107.885070  111.223333  108.741216  109.283206  4.693943\n",
      "12  107.462679   91.714437  107.358801  102.178639  4.626723\n",
      "13   85.147576  113.990681   86.418018   95.185425  4.555827\n",
      "14   93.765603  109.375854   84.810509   95.983989  4.564181\n",
      "15  103.114091   86.327074   91.398336   93.613167  4.539171\n",
      "16  100.012492  105.078764   93.443331   99.511529  4.600274\n",
      "17   83.555153  100.676170  111.482321   98.571215  4.590779\n",
      "18   86.201528   90.538934   99.002007   91.914156  4.520855\n",
      "19   98.006095   81.030184  112.493868   97.176716  4.576531\n",
      "20   90.936723   88.238728   89.301666   89.492372  4.494153\n"
     ]
    }
   ],
   "source": [
    "df['log_med'] = np.log(df['media'])\n",
    "\n",
    "print(df)"
   ]
  },
  {
   "cell_type": "code",
   "execution_count": null,
   "metadata": {},
   "outputs": [],
   "source": []
  }
 ],
 "metadata": {
  "kernelspec": {
   "display_name": "Python [conda env:base] *",
   "language": "python",
   "name": "conda-base-py"
  },
  "language_info": {
   "codemirror_mode": {
    "name": "ipython",
    "version": 3
   },
   "file_extension": ".py",
   "mimetype": "text/x-python",
   "name": "python",
   "nbconvert_exporter": "python",
   "pygments_lexer": "ipython3",
   "version": "3.12.4"
  }
 },
 "nbformat": 4,
 "nbformat_minor": 4
}
